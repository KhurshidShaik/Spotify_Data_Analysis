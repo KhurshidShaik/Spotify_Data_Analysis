{
 "cells": [
  {
   "cell_type": "code",
   "execution_count": 16,
   "id": "initial_id",
   "metadata": {
    "ExecuteTime": {
     "end_time": "2024-06-07T17:04:51.551007600Z",
     "start_time": "2024-06-07T17:04:50.411024400Z"
    },
    "scrolled": true
   },
   "outputs": [],
   "source": [
    "import numpy as np\n",
    "import pandas as pd\n",
    "import spotipy\n",
    "from spotipy.oauth2 import SpotifyClientCredentials"
   ]
  },
  {
   "cell_type": "code",
   "execution_count": 4,
   "id": "8baca8bea7904774",
   "metadata": {
    "ExecuteTime": {
     "end_time": "2024-06-07T17:06:22.740135100Z",
     "start_time": "2024-06-07T17:06:22.717018Z"
    }
   },
   "outputs": [],
   "source": [
    "client_credentials_manager = SpotifyClientCredentials(client_id='8c257d6ff1fb47f7a19315e89128efef', client_secret='bfb4d4e3262241eca30015f07a07195c')\n",
    "sp = spotipy.Spotify(client_credentials_manager = client_credentials_manager)"
   ]
  },
  {
   "cell_type": "code",
   "execution_count": 5,
   "id": "5cd7098ad02d3991",
   "metadata": {
    "ExecuteTime": {
     "end_time": "2024-06-07T17:07:25.409248400Z",
     "start_time": "2024-06-07T17:07:25.387873100Z"
    }
   },
   "outputs": [],
   "source": [
    "artist_data = []\n",
    "artist_uri = 'spotify:artist:06HL4z0CvFAxyc27GXpf02'"
   ]
  },
  {
   "cell_type": "code",
   "execution_count": 6,
   "id": "702d297eecaf8e7",
   "metadata": {
    "ExecuteTime": {
     "end_time": "2024-06-07T17:07:26.556025Z",
     "start_time": "2024-06-07T17:07:25.999545500Z"
    }
   },
   "outputs": [],
   "source": [
    "results = sp.artist_albums(artist_uri, album_type='album')\n",
    "albums = results['items']\n",
    "while results['next']:\n",
    "    results = sp.next(results)\n",
    "    albums.extend(results['items'])\n",
    "\n",
    "names = []\n",
    "album_ids = []\n",
    "for album in albums:\n",
    "    name = album['name'].lower()\n",
    "    if name not in names:\n",
    "        names.append(name)\n",
    "        album_ids.append(album['id'])"
   ]
  },
  {
   "cell_type": "code",
   "execution_count": 7,
   "id": "86887f5bc7915f7f",
   "metadata": {
    "ExecuteTime": {
     "end_time": "2024-06-07T17:09:30.440845600Z",
     "start_time": "2024-06-07T17:07:49.821059300Z"
    }
   },
   "outputs": [],
   "source": [
    "for album_id in album_ids:\n",
    "    results = sp.album_tracks(album_id)\n",
    "    album_info = sp.album(album_id)\n",
    "    tracks = results['items']\n",
    "    #Results from spotify API come back in pages\n",
    "    while results['next']:\n",
    "        results = sp.next(results)\n",
    "        tracks.extend(results['items'])\n",
    "\n",
    "    for track in tracks:\n",
    "        track_row = {}\n",
    "        track_row['spotify_id'] = track['id']\n",
    "        track_row['spotify_uri'] = track['uri']\n",
    "        track_row['album'] = album_info['name']\n",
    "        track_row['name'] = track['name']\n",
    "        track_row['release_date'] = album_info['release_date']\n",
    "        track_row['track_number'] = track['track_number']\n",
    "        popularity = sp.track(track['id'])['popularity']\n",
    "        track_row['popularity'] = popularity\n",
    "        features = sp.audio_features(track['id'])[0]\n",
    "        track_row['danceability'] = features['danceability']\n",
    "        track_row['energy'] = features['energy']\n",
    "        track_row['key'] = features['key']\n",
    "        track_row['loudness'] = features['loudness']\n",
    "        track_row['mode'] = features['mode']\n",
    "        track_row['speechiness'] = features['speechiness']\n",
    "        track_row['acousticness'] = features['acousticness']\n",
    "        track_row['instrumentalness'] = features['instrumentalness']\n",
    "        track_row['liveness'] = features['liveness']\n",
    "        track_row['valence'] = features['valence']\n",
    "        track_row['tempo'] = features['tempo']\n",
    "        track_row['duration_ms'] = features['duration_ms']\n",
    "        track_row['time_signature'] = features['time_signature']\n",
    "        artist_data.append(track_row)"
   ]
  },
  {
   "cell_type": "code",
   "execution_count": 11,
   "id": "608702fd4fb2d65",
   "metadata": {
    "ExecuteTime": {
     "end_time": "2024-06-07T17:09:30.463766900Z",
     "start_time": "2024-06-07T17:09:30.444837100Z"
    }
   },
   "outputs": [
    {
     "name": "stdout",
     "output_type": "stream",
     "text": [
      "                 spotify_id                           spotify_uri  \\\n",
      "0    6dODwocEuGzHAavXqTbwHv  spotify:track:6dODwocEuGzHAavXqTbwHv   \n",
      "1    4PdLaGZubp4lghChqp8erB  spotify:track:4PdLaGZubp4lghChqp8erB   \n",
      "2    7uGYWMwRy24dm7RUDDhUlD  spotify:track:7uGYWMwRy24dm7RUDDhUlD   \n",
      "3    1kbEbBdEgQdQeLXCJh28pJ  spotify:track:1kbEbBdEgQdQeLXCJh28pJ   \n",
      "4    7wAkQFShJ27V8362MqevQr  spotify:track:7wAkQFShJ27V8362MqevQr   \n",
      "..                      ...                                   ...   \n",
      "572  15DeqWWQB4dcEWzJg15VrN  spotify:track:15DeqWWQB4dcEWzJg15VrN   \n",
      "573  0JIdBrXGSJXS72zjF9ss9u  spotify:track:0JIdBrXGSJXS72zjF9ss9u   \n",
      "574  5OOd01o2YS1QFwdpVLds3r  spotify:track:5OOd01o2YS1QFwdpVLds3r   \n",
      "575  1spLfUJxtyVyiKKTegQ2r4  spotify:track:1spLfUJxtyVyiKKTegQ2r4   \n",
      "576  4pJi1rVt9GNegU9kywjg4z  spotify:track:4pJi1rVt9GNegU9kywjg4z   \n",
      "\n",
      "                                            album  \\\n",
      "0    THE TORTURED POETS DEPARTMENT: THE ANTHOLOGY   \n",
      "1    THE TORTURED POETS DEPARTMENT: THE ANTHOLOGY   \n",
      "2    THE TORTURED POETS DEPARTMENT: THE ANTHOLOGY   \n",
      "3    THE TORTURED POETS DEPARTMENT: THE ANTHOLOGY   \n",
      "4    THE TORTURED POETS DEPARTMENT: THE ANTHOLOGY   \n",
      "..                                            ...   \n",
      "572                                  Taylor Swift   \n",
      "573                                  Taylor Swift   \n",
      "574                                  Taylor Swift   \n",
      "575                                  Taylor Swift   \n",
      "576                                  Taylor Swift   \n",
      "\n",
      "                                     name  popularity release_date  \\\n",
      "0           Fortnight (feat. Post Malone)          82   2024-04-19   \n",
      "1           The Tortured Poets Department          79   2024-04-19   \n",
      "2    My Boy Only Breaks His Favorite Toys          80   2024-04-19   \n",
      "3                                Down Bad          82   2024-04-19   \n",
      "4                         So Long, London          80   2024-04-19   \n",
      "..                                    ...         ...          ...   \n",
      "572                              Our Song          70   2006-10-24   \n",
      "573         I'm Only Me When I'm With You          55   2006-10-24   \n",
      "574                             Invisible          51   2006-10-24   \n",
      "575                A Perfectly Good Heart          50   2006-10-24   \n",
      "576  Teardrops on My Guitar - Pop Version          51   2006-10-24   \n",
      "\n",
      "     track_number  danceability  energy  key  loudness  mode  speechiness  \\\n",
      "0               1         0.504   0.386   11   -10.976     1       0.0308   \n",
      "1               2         0.604   0.428    0    -8.441     1       0.0255   \n",
      "2               3         0.596   0.563    0    -7.362     1       0.0269   \n",
      "3               4         0.541   0.366   11   -10.412     1       0.0748   \n",
      "4               5         0.423   0.533    9   -11.388     1       0.3220   \n",
      "..            ...           ...     ...  ...       ...   ...          ...   \n",
      "572            11         0.668   0.672    2    -4.931     1       0.0303   \n",
      "573            12         0.563   0.934    8    -3.629     1       0.0646   \n",
      "574            13         0.612   0.394    7    -5.723     1       0.0243   \n",
      "575            14         0.483   0.751    4    -5.726     1       0.0365   \n",
      "576            15         0.459   0.753   10    -3.827     1       0.0537   \n",
      "\n",
      "     acousticness  instrumentalness  liveness  valence    tempo  duration_ms  \\\n",
      "0         0.50200          0.000015    0.0961    0.281  192.004       228965   \n",
      "1         0.04830          0.000000    0.1260    0.292  110.259       293048   \n",
      "2         0.13700          0.000000    0.3020    0.481   97.073       203801   \n",
      "3         0.56000          0.000001    0.0946    0.168  159.707       261228   \n",
      "4         0.73000          0.002640    0.0816    0.248  160.218       262975   \n",
      "..            ...               ...       ...      ...      ...          ...   \n",
      "572       0.11100          0.000000    0.3290    0.539   89.011       201107   \n",
      "573       0.00452          0.000807    0.1030    0.518  143.964       213053   \n",
      "574       0.63700          0.000000    0.1470    0.233   96.001       203227   \n",
      "575       0.00349          0.000000    0.1280    0.268  156.092       220147   \n",
      "576       0.04020          0.000000    0.0863    0.483  199.997       179067   \n",
      "\n",
      "     time_signature  \n",
      "0                 4  \n",
      "1                 4  \n",
      "2                 4  \n",
      "3                 4  \n",
      "4                 4  \n",
      "..              ...  \n",
      "572               4  \n",
      "573               4  \n",
      "574               4  \n",
      "575               4  \n",
      "576               4  \n",
      "\n",
      "[577 rows x 20 columns]\n"
     ]
    }
   ],
   "source": [
    "cols = ['spotify_id', 'spotify_uri', 'album', 'name', 'popularity', 'release_date', 'track_number', 'danceability','energy','key', 'loudness', 'mode', 'speechiness', 'acousticness', 'instrumentalness', 'liveness', 'valence', \n",
    "'tempo', 'duration_ms', 'time_signature']\n",
    "artist_dataframe = pd.DataFrame(artist_data, columns = cols)  \n",
    "print(artist_dataframe)"
   ]
  },
  {
   "cell_type": "code",
   "execution_count": 12,
   "id": "b26e651be6699ee0",
   "metadata": {
    "ExecuteTime": {
     "end_time": "2024-06-07T17:09:30.490883Z",
     "start_time": "2024-06-07T17:09:30.464769100Z"
    }
   },
   "outputs": [],
   "source": [
    "columns_to_drop = ['spotify_id', 'spotify_uri', 'album']\n",
    "df = artist_dataframe.drop(columns=columns_to_drop)"
   ]
  },
  {
   "cell_type": "code",
   "execution_count": 13,
   "id": "7044a3c806a63e6a",
   "metadata": {
    "ExecuteTime": {
     "end_time": "2024-06-07T17:09:30.502816700Z",
     "start_time": "2024-06-07T17:09:30.479885300Z"
    }
   },
   "outputs": [],
   "source": [
    "df.to_csv('output.csv', index=False)"
   ]
  }
 ],
 "metadata": {
  "kernelspec": {
   "display_name": "Python 3 (ipykernel)",
   "language": "python",
   "name": "python3"
  },
  "language_info": {
   "codemirror_mode": {
    "name": "ipython",
    "version": 3
   },
   "file_extension": ".py",
   "mimetype": "text/x-python",
   "name": "python",
   "nbconvert_exporter": "python",
   "pygments_lexer": "ipython3",
   "version": "3.11.4"
  }
 },
 "nbformat": 4,
 "nbformat_minor": 5
}
